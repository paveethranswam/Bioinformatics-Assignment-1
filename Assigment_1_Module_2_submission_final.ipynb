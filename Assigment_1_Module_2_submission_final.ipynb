{
 "cells": [
  {
   "cell_type": "markdown",
   "id": "6924d2e0",
   "metadata": {},
   "source": [
    "## Assignment 1 - Module 2 Submission code"
   ]
  },
  {
   "cell_type": "markdown",
   "id": "ac6ea288",
   "metadata": {},
   "source": [
    "### Defining function to calculate the expected waiting time, takes parameters - probability values of letters and the target pattern to match "
   ]
  },
  {
   "cell_type": "code",
   "execution_count": 39,
   "id": "2a106a34",
   "metadata": {},
   "outputs": [],
   "source": [
    "# Waiting time of finding a pattern in say 'n' (10) sequences\n",
    "\n",
    "'''\n",
    "Waiting Time:\n",
    "The time it would take until a particular pattern is first encountered in a sequence.\n",
    "By time, we usually mean how long a sequence has to be generated till we see our pattern of interest.\n",
    "'''\n",
    "\n",
    "# Step 1: Generate sequences - given values of P(R) and P(Y)\n",
    "# Step 2: Find the patterns in each sequence, and if present store the length of each sequence upto which the search was done\n",
    "# Step 3: Calculate avg value of the list (length) values for n runs\n",
    "import random\n",
    "import numpy as np\n",
    "\n",
    "\n",
    "def waiting_time(probability, pattern):\n",
    "    # Probability parameter is a dict with probability values of all occurrences of R and Y\n",
    "    # Check if they add upto 1\n",
    "    assert abs(sum(probability.values()) -1) < 0.01 , \"Probability values don't add upto 1!!!!\"\n",
    "    \n",
    "    # Sanity check in pattern\n",
    "    for letter in pattern:\n",
    "        assert letter in probability, \"Sequence contains letters that are not in composition/probability items\"\n",
    "    \n",
    "    # Minimum length of sequence should be the length of the pattern\n",
    "    pattern_size = len(pattern)\n",
    "    sequence = ''\n",
    "    \n",
    "    # Generate sequences and Calculate waiting times\n",
    "    while( len(sequence)<pattern_size or sequence[-pattern_size:]!= pattern ): # If either the length is below minimum pattern size length or if the last three values at any point during sequence generation matches the patter that we are looking to find, then stop generating sequences\n",
    "        ran = random.uniform(0,1) # Get a random value between range 0 and 1\n",
    "        p=0\n",
    "        for letter in probability:\n",
    "            p+=probability[letter] # For every letter in the dict, add the p value to the random value\n",
    "            \n",
    "            if(ran<p): # Add a letter to sequence based on the p value ( e.g. if 'ran' value is <0.5 then the letter is R)\n",
    "                sequence+= letter\n",
    "                break # Break here to not continue the for loop since we;ve already found a new letter to add to the sequence.\n",
    "\n",
    "         # print(sequence)\n",
    "    return (len(sequence))\n",
    "     \n"
   ]
  },
  {
   "cell_type": "markdown",
   "id": "07165847",
   "metadata": {},
   "source": [
    "### Calculating expected waiting time for pattern 'RR' over 100 randomly generated sequences, with P(R) = 0.5"
   ]
  },
  {
   "cell_type": "code",
   "execution_count": 43,
   "id": "0b4816b7",
   "metadata": {},
   "outputs": [
    {
     "name": "stdout",
     "output_type": "stream",
     "text": [
      "{'R': 0.5, 'Y': 0.5}\n",
      "Number of sequences generated: 100\n",
      "Waiting times for all 100 sequences [5, 2, 6, 6, 4, 7, 5, 11, 9, 3, 4, 2, 2, 11, 2, 2, 16, 6, 5, 2, 3, 2, 13, 6, 3, 9, 9, 4, 13, 7, 2, 9, 2, 6, 7, 15, 4, 8, 6, 2, 7, 3, 21, 7, 14, 15, 4, 4, 8, 5, 2, 4, 5, 2, 4, 2, 2, 6, 2, 2, 5, 2, 3, 4, 8, 3, 6, 4, 15, 8, 12, 13, 7, 6, 3, 11, 6, 13, 2, 13, 5, 5, 3, 3, 2, 8, 28, 4, 3, 6, 8, 4, 2, 4, 5, 17, 4, 2, 2, 3]\n",
      "Average waiting time of 100 sequences: 6.210\n"
     ]
    }
   ],
   "source": [
    "probability = dict()\n",
    "probability['R'] = 0.5\n",
    "probability['Y'] = 1-probability['R']\n",
    "print(probability)\n",
    "\n",
    "# Target pattern\n",
    "pattern = \"RR\"\n",
    "\n",
    "# Number of patterns to generate - find average waiting time using this\n",
    "n = 100 # We see on an average how long does it take to get this pattern over 50 different sequences\n",
    "\n",
    "waiting_time_total = [waiting_time(probability, pattern) for i in range(n)] # calculating waiting time for every generated sequence\n",
    "\n",
    "print(\"Number of sequences generated: {}\".format(n))\n",
    "print(\"Waiting times for all 100 sequences\",waiting_time_total)\n",
    "print(\"Average waiting time of {} sequences: {:.3f}\".format(n,np.mean(waiting_time_total)))\n",
    "    "
   ]
  },
  {
   "cell_type": "markdown",
   "id": "f9a4547f",
   "metadata": {},
   "source": [
    "### As we see above, the expected waiting time for 'RR' when P(R)=0.5 is around 6 - which is similar to my calculated result"
   ]
  },
  {
   "cell_type": "markdown",
   "id": "ab307cd7",
   "metadata": {},
   "source": [
    "### Calculating expected waiting time for 'RY' over 100 randomly generated sequences, with P(R) = 0.5"
   ]
  },
  {
   "cell_type": "code",
   "execution_count": 46,
   "id": "e09b5825",
   "metadata": {},
   "outputs": [
    {
     "name": "stdout",
     "output_type": "stream",
     "text": [
      "{'R': 0.5, 'Y': 0.5}\n",
      "Number of sequences generated: 100\n",
      "Waiting times for all 100 sequences [4, 4, 4, 3, 5, 2, 2, 5, 2, 2, 2, 3, 4, 4, 3, 2, 2, 12, 3, 6, 5, 4, 4, 2, 5, 5, 9, 3, 5, 6, 2, 4, 4, 5, 2, 2, 7, 3, 2, 2, 3, 4, 5, 6, 5, 4, 6, 2, 3, 3, 2, 4, 5, 3, 6, 6, 3, 3, 5, 4, 3, 6, 4, 2, 3, 4, 3, 5, 3, 4, 5, 6, 7, 3, 8, 4, 2, 3, 3, 3, 2, 6, 4, 2, 6, 4, 6, 3, 3, 2, 3, 5, 5, 6, 7, 3, 3, 3, 9, 4]\n",
      "Average waiting time of 100 sequences: 4.040\n"
     ]
    }
   ],
   "source": [
    "probability = dict()\n",
    "probability['R'] = 0.5\n",
    "probability['Y'] = 1-probability['R']\n",
    "print(probability)\n",
    "\n",
    "# Target pattern\n",
    "pattern = \"RY\"\n",
    "\n",
    "# Number of patterns to generate - find average waiting time using this\n",
    "n = 100 # We see on an average how long does it take to get this pattern over 50 different sequences\n",
    "\n",
    "waiting_time_total = [waiting_time(probability, pattern) for i in range(n)]\n",
    "\n",
    "print(\"Number of sequences generated: {}\".format(n))\n",
    "print(\"Waiting times for all 100 sequences\",waiting_time_total)\n",
    "print(\"Average waiting time of {} sequences: {:.3f}\".format(n,np.mean(waiting_time_total)))\n",
    "    "
   ]
  },
  {
   "cell_type": "markdown",
   "id": "1ee4c2bc",
   "metadata": {},
   "source": [
    "### As we see above, the expected waiting time for 'RY' when P(R)=0.5 is around 4 - which is similar to my calculated result"
   ]
  },
  {
   "cell_type": "markdown",
   "id": "34f75756",
   "metadata": {},
   "source": [
    "### Calculating expected waiting time for 'RR' over 100 randomly generated sequences, with P(R) = 0.75"
   ]
  },
  {
   "cell_type": "code",
   "execution_count": 51,
   "id": "57d27298",
   "metadata": {
    "scrolled": false
   },
   "outputs": [
    {
     "name": "stdout",
     "output_type": "stream",
     "text": [
      "{'R': 0.75, 'Y': 0.25}\n",
      "Number of sequences generated: 100\n",
      "Waiting times for all 100 sequences [2, 2, 11, 3, 3, 4, 2, 4, 6, 2, 3, 2, 2, 3, 6, 3, 2, 2, 2, 2, 2, 7, 3, 10, 2, 3, 2, 4, 4, 2, 2, 5, 3, 2, 2, 2, 2, 4, 2, 2, 2, 4, 5, 3, 2, 3, 2, 2, 6, 3, 2, 2, 2, 2, 2, 6, 2, 2, 4, 2, 4, 2, 2, 2, 2, 2, 2, 3, 2, 4, 3, 4, 2, 5, 2, 3, 2, 4, 2, 4, 2, 3, 2, 2, 2, 7, 3, 2, 2, 3, 2, 5, 2, 2, 5, 4, 3, 2, 2, 8]\n",
      "Average waiting time of 100 sequences: 3.080\n"
     ]
    }
   ],
   "source": [
    "probability = dict()\n",
    "probability['R'] = 0.75\n",
    "probability['Y'] = 1-probability['R']\n",
    "print(probability)\n",
    "\n",
    "# Target pattern\n",
    "pattern = \"RR\"\n",
    "\n",
    "# Number of patterns to generate - find average waiting time using this\n",
    "n = 100 # We see on an average how long does it take to get this pattern over 50 different sequences\n",
    "\n",
    "waiting_time_total = [waiting_time(probability, pattern) for i in range(n)]\n",
    "\n",
    "print(\"Number of sequences generated: {}\".format(n))\n",
    "print(\"Waiting times for all 100 sequences\",waiting_time_total)\n",
    "print(\"Average waiting time of {} sequences: {:.3f}\".format(n,np.mean(waiting_time_total)))\n",
    "    "
   ]
  },
  {
   "cell_type": "markdown",
   "id": "d3a0879e",
   "metadata": {},
   "source": [
    "### As we see above, the expected waiting time for 'RR' when P(R)=0.75 is around 3.11 - which is similar to my calculated result"
   ]
  },
  {
   "cell_type": "markdown",
   "id": "ebce259a",
   "metadata": {},
   "source": [
    "### Calculating expected waiting time for 'RY' over 100 randomly generated sequences, with P(R) = 0.75"
   ]
  },
  {
   "cell_type": "code",
   "execution_count": 57,
   "id": "6c060e8c",
   "metadata": {},
   "outputs": [
    {
     "name": "stdout",
     "output_type": "stream",
     "text": [
      "{'R': 0.75, 'Y': 0.25}\n",
      "Number of sequences generated: 100\n",
      "Waiting times for all 100 sequences [3, 2, 11, 14, 3, 2, 3, 5, 3, 3, 5, 3, 3, 4, 3, 9, 2, 15, 5, 9, 2, 4, 2, 5, 14, 4, 16, 3, 5, 7, 10, 5, 2, 4, 6, 4, 6, 6, 4, 3, 3, 3, 3, 6, 5, 8, 4, 5, 10, 8, 3, 7, 5, 2, 4, 5, 3, 3, 5, 2, 3, 3, 4, 20, 11, 8, 9, 2, 5, 3, 3, 5, 6, 5, 2, 8, 2, 3, 16, 5, 6, 2, 7, 9, 2, 5, 2, 3, 2, 2, 8, 9, 2, 4, 10, 7, 4, 12, 10, 6]\n",
      "Average waiting time of 100 sequences: 5.480\n"
     ]
    }
   ],
   "source": [
    "probability = dict()\n",
    "probability['R'] = 0.75\n",
    "probability['Y'] = 1-probability['R']\n",
    "print(probability)\n",
    "\n",
    "# Target pattern\n",
    "pattern = \"RY\"\n",
    "\n",
    "# Number of patterns to generate - find average waiting time using this\n",
    "n = 100 # We see on an average how long does it take to get this pattern over 50 different sequences\n",
    "\n",
    "waiting_time_total = [waiting_time(probability, pattern) for i in range(n)]\n",
    "\n",
    "print(\"Number of sequences generated: {}\".format(n))\n",
    "print(\"Waiting times for all 100 sequences\",waiting_time_total)\n",
    "print(\"Average waiting time of {} sequences: {:.3f}\".format(n,np.mean(waiting_time_total)))\n",
    "    "
   ]
  },
  {
   "cell_type": "markdown",
   "id": "232f21d3",
   "metadata": {},
   "source": [
    "### As we see above, the expected waiting time for 'RY' when P(R)=0.75 is around 5.33 - which is similar to my calculated result"
   ]
  },
  {
   "cell_type": "code",
   "execution_count": null,
   "id": "71546a3a",
   "metadata": {},
   "outputs": [],
   "source": []
  }
 ],
 "metadata": {
  "kernelspec": {
   "display_name": "Python 3",
   "language": "python",
   "name": "python3"
  },
  "language_info": {
   "codemirror_mode": {
    "name": "ipython",
    "version": 3
   },
   "file_extension": ".py",
   "mimetype": "text/x-python",
   "name": "python",
   "nbconvert_exporter": "python",
   "pygments_lexer": "ipython3",
   "version": "3.7.9"
  }
 },
 "nbformat": 4,
 "nbformat_minor": 5
}
